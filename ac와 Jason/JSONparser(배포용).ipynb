{
  "metadata": {
    "kernelspec": {
      "name": "python",
      "display_name": "Python (Pyodide)",
      "language": "python"
    },
    "language_info": {
      "codemirror_mode": {
        "name": "python",
        "version": 3
      },
      "file_extension": ".py",
      "mimetype": "text/x-python",
      "name": "python",
      "nbconvert_exporter": "python",
      "pygments_lexer": "ipython3",
      "version": "3.8"
    }
  },
  "nbformat_minor": 5,
  "nbformat": 4,
  "cells": [
    {
      "id": "c551c36e",
      "cell_type": "markdown",
      "source": "# Build a JSON parser",
      "metadata": {}
    },
    {
      "id": "a14762c3",
      "cell_type": "markdown",
      "source": "All rights reserved, 2024 by **Youn-Sik Hong**. 수업 목적으로만 활용 가능.",
      "metadata": {}
    },
    {
      "id": "811d38c8",
      "cell_type": "markdown",
      "source": "## 1. Read a JSON data",
      "metadata": {}
    },
    {
      "id": "536a222e",
      "cell_type": "markdown",
      "source": "###  JSON은 python의 dictionary 구조(key-value 쌍)와 비슷합니다.\n- JSON은 XML보다 구조가 간단해 데이터를 저장하거나 전송하는 데 유리합니다.",
      "metadata": {}
    },
    {
      "id": "48a08f89",
      "cell_type": "code",
      "source": "import json",
      "metadata": {
        "trusted": true
      },
      "outputs": [],
      "execution_count": 1
    },
    {
      "id": "14a2a515",
      "cell_type": "markdown",
      "source": "JSON 파일을 직접 읽어올 수 있지만, 여기서는 문자열로 JSON 데이터를 정의했습니다.",
      "metadata": {}
    },
    {
      "id": "b64cca6e",
      "cell_type": "code",
      "source": "json_data = '{\"name\": \"John\", \"age\": 30, \"city\": \"New York\"}'",
      "metadata": {
        "trusted": true
      },
      "outputs": [],
      "execution_count": 2
    },
    {
      "id": "a70f11e4",
      "cell_type": "markdown",
      "source": "### 1.1 loads(): JSON $\\rightarrow$ python dictionary ",
      "metadata": {}
    },
    {
      "id": "78ad587b",
      "cell_type": "code",
      "source": "parsed_data = json.loads(json_data)\nprint(parsed_data)",
      "metadata": {
        "trusted": true
      },
      "outputs": [
        {
          "name": "stdout",
          "text": "{'name': 'John', 'age': 30, 'city': 'New York'}\n",
          "output_type": "stream"
        }
      ],
      "execution_count": 3
    },
    {
      "id": "c9198467",
      "cell_type": "markdown",
      "source": "- JSON 데이터를 python의 dictonary 구조로 저장했기 때문에 \n    - key를 참조해 value를 가져올 수 있습니다.",
      "metadata": {}
    },
    {
      "id": "92254270",
      "cell_type": "code",
      "source": "name = parsed_data['name']\nprint(f\"Name: {name}\")",
      "metadata": {
        "trusted": true
      },
      "outputs": [
        {
          "name": "stdout",
          "text": "Name: John\n",
          "output_type": "stream"
        }
      ],
      "execution_count": 4
    },
    {
      "id": "f611877e",
      "cell_type": "markdown",
      "source": "### practice 01 : 나머지 key에 대해서도 value를 출력해 보세요.",
      "metadata": {}
    },
    {
      "id": "1afa2162",
      "cell_type": "code",
      "source": "# 여기에 코드를 작성하세요.\nage = parsed_data['age']\nprint(f\"Age: {age}\")\n\ncity = parsed_data['city']\nprint(f\"City: {city}\")",
      "metadata": {
        "trusted": true
      },
      "outputs": [
        {
          "name": "stdout",
          "text": "Age: 30\nCity: New York\n",
          "output_type": "stream"
        }
      ],
      "execution_count": 6
    },
    {
      "id": "650ad255",
      "cell_type": "markdown",
      "source": "### 1.2 dumps() used to serialize a Python object\n- 잘 사용하지 않음.",
      "metadata": {}
    },
    {
      "id": "5e6175a2",
      "cell_type": "code",
      "source": "json_data2 = {\n    \"name\": \"John\", \n    \"age\": 30, \n    \"city\": \"New York\"\n}",
      "metadata": {
        "trusted": true
      },
      "outputs": [],
      "execution_count": 7
    },
    {
      "id": "fa9e17fb",
      "cell_type": "code",
      "source": "#dumped_data = json.dumps(json_data2)\ndumped_data = json.dumps(json_data2, \n                         indent=4, \n                         sort_keys=True)\nprint(dumped_data[0:20])",
      "metadata": {
        "trusted": true
      },
      "outputs": [
        {
          "name": "stdout",
          "text": "{\n    \"age\": 30,\n   \n",
          "output_type": "stream"
        }
      ],
      "execution_count": 8
    },
    {
      "id": "d32a7b66",
      "cell_type": "markdown",
      "source": "## 2. Build a JSON parser\n- JSON의 BNF(ch2(aux).pdf)를 참고하면서 코드를 분석하세요.\n    - parse()는 식별 기호에 따라 JSON 구성 요소를 추출하는 각 메소드를 호출합니다.\n        - parse()는 parse_object() 및 parse_array()에서도 호출됩니다.\n    - parse_boolean()은 python의 literal인 True, False 또는 None을 반환합니다.\n    - parse_number()는 float 타입으로 변환합니다.\n---    \n- 시작 기호 '{', '\\[', '\"'는 끝 기호'\\}', '\\]', '\"'를 찾아야 합니다.\n- 코드를 이해하기 쉽도록 멤버 메소드마다 print()문을 추가했습니다.",
      "metadata": {}
    },
    {
      "id": "ac1b200a",
      "cell_type": "code",
      "source": "class JSONParser:\n    def __init__(self, json_str):\n        self.json_str = json_str\n        self.index = 0\n\n    def parse(self):\n        if self.index >= len(self.json_str):\n            raise ValueError(\"Unexpected end of JSON string\")\n        ch = self.json_str[self.index]\n\n        if ch == '{':\n            return self.parse_object()\n        elif ch == '[':\n            return self.parse_array()\n        elif ch == '\"':\n            return self.parse_string()\n        elif ch.isdigit() or ch == '-':\n            return self.parse_number()\n        elif ch.isalpha():\n            return self.parse_boolean()\n        elif ch.isspace() or ch in [',', ':']:\n            self.index += 1\n            return self.parse()\n        else:\n            raise ValueError(f\"Unexpected character: {ch}\")\n\n    def parse_object(self):\n        result = {}\n        self.index += 1  # Skip curly brace '{'\n\n        while self.json_str[self.index] != '}':\n            key = self.parse_string()\n            self.index += 1  # Skip colon ':'\n            value = self.parse()\n            result[key] = value\n\n            if self.json_str[self.index] == ',':\n                self.index += 1  # Skip comma ','\n        \n        self.index += 1  # Skip curly brace '}'\n        print(f\"parse_object >>> {result}\")        \n        return result\n\n    def parse_array(self):\n        result = []\n        self.index += 1  # Skip square bracket '['\n\n        while self.json_str[self.index] != ']':\n            value = self.parse()\n            result.append(value)\n            print(f\"parse_array >>> {result}\")\n\n            if self.json_str[self.index] == ',':\n                self.index += 1  # Skip comma ','\n        \n        self.index += 1  # Skip square bracket ']'\n        return result\n\n    def parse_string(self):\n            self.index += 1  # Skip double quote '\"'\n        start = self.index\n        while self.json_str[self.index] != '\"':\n            self.index += 1\n        end = self.index\n        self.index += 1  # Skip double quote '\"'\n        return self.json_str[start:end]\n\n    def parse_number(self):\n         start = self.index\n        while self.index < len(self.json_str) and (self.json_str[self.index].isdigit() or self.json_str[self.index] in ['.', 'e', 'E', '+', '-']):\n        self.index += 1\n        end = self.index\n        return float(self.json_str[start:end])\n\n    def parse_boolean(self):\n        start = self.index\n        while self.index < len(self.json_str) and self.json_str[self.index].isalpha():\n            self.index += 1\n        end = self.index            \n        word = self.json_str[start:end]\n        print(f\"parse_boolean >>> {word}\")\n        \n        if word == 'true':\n            return True\n        elif word == 'false':\n            return False\n        elif word == 'null':\n            return None\n        else:\n            raise ValueError(f\"Invalid keyword: {word}\")",
      "metadata": {
        "trusted": true
      },
      "outputs": [],
      "execution_count": null
    },
    {
      "id": "b6f0bb7f",
      "cell_type": "code",
      "source": "json_sample = '{\"name\": \"John\", \"age\": 30, \"city\": \"New York\", \"is_student\": false, \"grades\": [90, 85, 92]}'\njson_data = JSONParser(json_sample)\nparsed_data = json_data.parse()\nprint(parsed_data)",
      "metadata": {
        "trusted": true
      },
      "outputs": [
        {
          "name": "stdout",
          "text": "parse_string >>> n\nparse_string >>> name\nparse_string >>> J\nparse_string >>> John\nparse_string >>> a\nparse_string >>> age\nparse_number >>> 30\nparse_string >>> c\nparse_string >>> city\nparse_string >>> N\nparse_string >>> New York\nparse_string >>> i\nparse_string >>> is_student\nparse_boolean >>> false\nparse_string >>> g\nparse_string >>> grades\nparse_number >>> 90\nparse_array >>> [90.0]\nparse_number >>> 85\nparse_array >>> [90.0, 85.0]\nparse_number >>> 92\nparse_array >>> [90.0, 85.0, 92.0]\nparse_object >>> {'name': 'John', 'age': 30.0, 'city': 'New York', 'is_student': False, 'grades': [90.0, 85.0, 92.0]}\n{'name': 'John', 'age': 30.0, 'city': 'New York', 'is_student': False, 'grades': [90.0, 85.0, 92.0]}\n",
          "output_type": "stream"
        }
      ],
      "execution_count": 10
    },
    {
      "id": "0ca8984e",
      "cell_type": "markdown",
      "source": "### practice 02 : JSON data를 직접 만들어 parser를 테스해 보세요.\n- 위에서 제시한 예제 수준으로 만들어 보기 바랍니다.",
      "metadata": {}
    },
    {
      "id": "c074aced",
      "cell_type": "code",
      "source": "# 여기에 JSON data를 추가하세요.\njson_sample = '{\"name\": \"Jiwon\", \"age\": 22, \"city\": \"Daejeon\", \"is_child\": false, \"day\": [2022, 03, 19]}'\njson_data = JSONParser(json_sample)\nparsed_data = json_data.parse()\nprint(parsed_data)",
      "metadata": {
        "trusted": true
      },
      "outputs": [
        {
          "name": "stdout",
          "text": "parse_string >>> n\nparse_string >>> name\nparse_string >>> J\nparse_string >>> Jiwon\nparse_string >>> a\nparse_string >>> age\nparse_number >>> 22\nparse_string >>> c\nparse_string >>> city\nparse_string >>> D\nparse_string >>> Daejeon\nparse_string >>> i\nparse_string >>> is_child\nparse_boolean >>> false\nparse_string >>> d\nparse_string >>> day\nparse_number >>> 2022\nparse_array >>> [2022.0]\nparse_number >>> 03\nparse_array >>> [2022.0, 3.0]\nparse_number >>> 19\nparse_array >>> [2022.0, 3.0, 19.0]\nparse_object >>> {'name': 'Jiwon', 'age': 22.0, 'city': 'Daejeon', 'is_child': False, 'day': [2022.0, 3.0, 19.0]}\n{'name': 'Jiwon', 'age': 22.0, 'city': 'Daejeon', 'is_child': False, 'day': [2022.0, 3.0, 19.0]}\n",
          "output_type": "stream"
        }
      ],
      "execution_count": 15
    },
    {
      "id": "ac18ad8b",
      "cell_type": "markdown",
      "source": "### practice 03 : 아래 JSON 데이터가 컴파일되도록 위 코드를 수정하세요.",
      "metadata": {}
    },
    {
      "id": "46a13766",
      "cell_type": "code",
      "source": "json_sample2 = '''\n{\"name\": \"John\",\n \"age\": 30,\n \"city\": \"New York\",\n \"is_student\": false,\n \"grades\": [90, 85, 92]}\n'''",
      "metadata": {
        "trusted": true
      },
      "outputs": [],
      "execution_count": 24
    },
    {
      "id": "2aba306d",
      "cell_type": "code",
      "source": "json_data2 = JSONParser(json_sample2)\nparsed_data2 = json_data2.parse()\nprint(parsed_data2)",
      "metadata": {
        "trusted": true
      },
      "outputs": [
        {
          "name": "stdout",
          "text": "parse_string >>> n\nparse_string >>> name\nparse_string >>> J\nparse_string >>> John\nparse_string >>> a\nparse_string >>> age\nparse_number >>> 30\nparse_string >>> c\nparse_string >>> city\nparse_string >>> N\nparse_string >>> New York\nparse_string >>> i\nparse_string >>> is_student\nparse_boolean >>> false\nparse_string >>> g\nparse_string >>> grades\nparse_number >>> 90\nparse_array >>> [90.0]\nparse_number >>> 85\nparse_array >>> [90.0, 85.0]\nparse_number >>> 92\nparse_array >>> [90.0, 85.0, 92.0]\nparse_object >>> {'name': 'John', 'age': 30.0, 'city': 'New York', 'is_student': False, 'grades': [90.0, 85.0, 92.0]}\n{'name': 'John', 'age': 30.0, 'city': 'New York', 'is_student': False, 'grades': [90.0, 85.0, 92.0]}\n",
          "output_type": "stream"
        }
      ],
      "execution_count": 25
    },
    {
      "id": "02191ba3-73e5-4a40-8b79-41e2ef4fc899",
      "cell_type": "code",
      "source": "",
      "metadata": {
        "trusted": true
      },
      "outputs": [],
      "execution_count": null
    }
  ]
}